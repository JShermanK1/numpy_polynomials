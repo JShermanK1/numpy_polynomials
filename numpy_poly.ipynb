{
 "cells": [
  {
   "cell_type": "code",
   "execution_count": null,
   "metadata": {},
   "outputs": [],
   "source": [
    "import numpy as np\n",
    "import scipy as sp\n",
    "from numpy.polynomial import polynomial as poly\n",
    "from numpy.polynomial import Polynomial\n",
    "import pandas as pd\n",
    "import seaborn as sns\n",
    "from matplotlib import pyplot as plt"
   ]
  },
  {
   "cell_type": "code",
   "execution_count": null,
   "metadata": {},
   "outputs": [],
   "source": [
    "degree = 5\n",
    "poly_basis = []\n",
    "for i in range(degree + 1):\n",
    "    poly_basis.append(Polynomial.basis(deg= i))\n",
    "    print(poly_basis[i])"
   ]
  },
  {
   "cell_type": "code",
   "execution_count": null,
   "metadata": {},
   "outputs": [],
   "source": [
    "X = np.linspace(-np.pi, np.pi, 1000)\n",
    "fig, ax = plt.subplots()\n",
    "for f in poly_basis[1:]:\n",
    "    sns.lineplot(\n",
    "        x= X,\n",
    "        y= f(X),\n",
    "        ax= ax\n",
    "    )"
   ]
  },
  {
   "cell_type": "code",
   "execution_count": null,
   "metadata": {},
   "outputs": [],
   "source": [
    "orthonorm_basis = []\n",
    "for i in range(degree + 1):\n",
    "    new_basis = poly_basis[i]\n",
    "    for j in range(i):\n",
    "        numer = sp.integrate.quad((poly_basis[i] * orthonorm_basis[j]), -np.pi, np.pi)[0]\n",
    "        denom = sp.integrate.quad((orthonorm_basis[j] ** 2), -np.pi, np.pi)[0]\n",
    "        new_basis = new_basis -  ((numer / denom) * orthonorm_basis[j])\n",
    "    orthonorm_basis.append(new_basis)\n",
    "for i in range(len(orthonorm_basis)):\n",
    "    norm = np.sqrt(np.reciprocal(sp.integrate.quad(orthonorm_basis[i] ** 2, -np.pi, np.pi)[0]))\n",
    "    orthonorm_basis[i] = orthonorm_basis[i] * norm "
   ]
  },
  {
   "cell_type": "code",
   "execution_count": null,
   "metadata": {},
   "outputs": [],
   "source": [
    "for f in orthonorm_basis:\n",
    "    print(f)"
   ]
  },
  {
   "cell_type": "code",
   "execution_count": null,
   "metadata": {},
   "outputs": [],
   "source": [
    "fig, ax = plt.subplots()\n",
    "for f in orthonorm_basis[1:]:\n",
    "    sns.lineplot(\n",
    "        x= X,\n",
    "        y= f(X)\n",
    "    )"
   ]
  },
  {
   "cell_type": "code",
   "execution_count": null,
   "metadata": {},
   "outputs": [],
   "source": [
    "projections = []\n",
    "for i in range(len(orthonorm_basis)):\n",
    "    numer = sp.integrate.quad(lambda t: np.sin(t) * orthonorm_basis[i](t), -np.pi, np.pi)[0]\n",
    "    denom = sp.integrate.quad(orthonorm_basis[i] ** 2, -np.pi, np.pi)[0]\n",
    "    projections.append(\n",
    "        numer * orthonorm_basis[i]\n",
    "    )\n",
    "    print(projections[i])\n",
    "u_x = np.sum(projections)\n",
    "u_x"
   ]
  },
  {
   "cell_type": "code",
   "execution_count": null,
   "metadata": {},
   "outputs": [],
   "source": [
    "fig, ax = plt.subplots()\n",
    "for f in projections:\n",
    "    sns.lineplot(\n",
    "        x= X,\n",
    "        y= f(X)\n",
    "    )"
   ]
  },
  {
   "cell_type": "code",
   "execution_count": null,
   "metadata": {},
   "outputs": [],
   "source": [
    "domain = np.linspace(-np.pi, np.pi, 1000)\n",
    "fit_poly, fit = Polynomial.fit(domain, np.sin(domain), deg= 5, full= True)\n",
    "fit_poly"
   ]
  },
  {
   "cell_type": "code",
   "execution_count": null,
   "metadata": {},
   "outputs": [],
   "source": [
    "Polynomial(fit_poly.convert().coef)"
   ]
  },
  {
   "cell_type": "code",
   "execution_count": null,
   "metadata": {},
   "outputs": [],
   "source": [
    "for value, name in zip(fit, [\"RSS\", \"rank\", \"singular values\", \"rcond\"]):\n",
    "    print(f\"{name}: {value}\")"
   ]
  },
  {
   "cell_type": "code",
   "execution_count": null,
   "metadata": {},
   "outputs": [],
   "source": [
    "df = pd.DataFrame({\n",
    "    \"x\": np.linspace(-np.pi, np.pi, 1000)\n",
    "})\n",
    "df[\"sin\"] = np.sin(df[\"x\"])\n",
    "df[\"approx\"] = u_x(df[\"x\"])\n",
    "df[\"polyfit\"] = fit_poly(df[\"x\"])"
   ]
  },
  {
   "cell_type": "code",
   "execution_count": null,
   "metadata": {},
   "outputs": [],
   "source": [
    "np.sum((df[\"sin\"] - df[\"polyfit\"]) ** 2)"
   ]
  },
  {
   "cell_type": "code",
   "execution_count": null,
   "metadata": {},
   "outputs": [],
   "source": [
    "np.sum((df[\"sin\"] - df[\"approx\"]) ** 2)"
   ]
  },
  {
   "cell_type": "code",
   "execution_count": null,
   "metadata": {},
   "outputs": [],
   "source": [
    "df = pd.DataFrame({\n",
    "    \"x\": np.linspace(-4, 4, 1000)\n",
    "})\n",
    "df[\"sin\"] = np.sin(df[\"x\"])\n",
    "df[\"approx\"] = u_x(df[\"x\"])\n",
    "df[\"polyfit\"] = fit_poly(df[\"x\"])"
   ]
  },
  {
   "cell_type": "code",
   "execution_count": null,
   "metadata": {},
   "outputs": [],
   "source": [
    "fig, ax = plt.subplots(figsize= (10,10))\n",
    "sns.lineplot(\n",
    "    df.melt(id_vars= \"x\", value_vars= df.columns.drop(\"x\"), value_name= \"y\", var_name= \"function\"),\n",
    "    x= \"x\",\n",
    "    y= \"y\",\n",
    "    hue= \"function\",\n",
    "    style= \"function\",\n",
    "    linewidth= 3,\n",
    "    alpha= 0.7\n",
    ")\n",
    "ax.vlines([-np.pi, np.pi], ymax= 1, ymin= -1, linestyles= \"--\", colors= \"r\")"
   ]
  }
 ],
 "metadata": {
  "kernelspec": {
   "display_name": "islp",
   "language": "python",
   "name": "python3"
  },
  "language_info": {
   "codemirror_mode": {
    "name": "ipython",
    "version": 3
   },
   "file_extension": ".py",
   "mimetype": "text/x-python",
   "name": "python",
   "nbconvert_exporter": "python",
   "pygments_lexer": "ipython3",
   "version": "3.13.7"
  }
 },
 "nbformat": 4,
 "nbformat_minor": 2
}
