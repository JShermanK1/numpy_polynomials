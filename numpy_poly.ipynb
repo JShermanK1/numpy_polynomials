{
 "cells": [
  {
   "cell_type": "code",
   "execution_count": null,
   "metadata": {},
   "outputs": [],
   "source": [
    "import numpy as np\n",
    "import scipy as sp\n",
    "from numpy.polynomial import polynomial as poly\n",
    "from numpy.polynomial import Polynomial\n",
    "import pandas as pd\n",
    "import seaborn as sns\n",
    "from matplotlib import pyplot as plt"
   ]
  },
  {
   "cell_type": "code",
   "execution_count": null,
   "metadata": {},
   "outputs": [],
   "source": [
    "degree = 5\n",
    "poly_base = []\n",
    "for i in range(degree + 1):\n",
    "    poly_base.append(Polynomial.basis(deg= i))\n",
    "    print(poly_base[i])"
   ]
  },
  {
   "cell_type": "code",
   "execution_count": null,
   "metadata": {},
   "outputs": [],
   "source": [
    "orthonorm_base = []\n",
    "for i in range(degree + 1):\n",
    "    new_base = poly_base[i]\n",
    "    for j in range(i):\n",
    "        numer = sp.integrate.quad((poly_base[i] * orthonorm_base[j]), -np.pi, np.pi)[0]\n",
    "        denom = sp.integrate.quad((orthonorm_base[j] ** 2), -np.pi, np.pi)[0]\n",
    "        new_base = new_base -  ((numer / denom) * orthonorm_base[j])\n",
    "    orthonorm_base.append(new_base)\n",
    "for i in range(len(orthonorm_base)):\n",
    "    norm = np.sqrt(np.reciprocal(sp.integrate.quad(orthonorm_base[i] ** 2, -np.pi, np.pi)[0]))\n",
    "    orthonorm_base[i] = orthonorm_base[i] * norm "
   ]
  },
  {
   "cell_type": "code",
   "execution_count": null,
   "metadata": {},
   "outputs": [],
   "source": [
    "projections = []\n",
    "for i in range(len(orthonorm_base)):\n",
    "    numer = sp.integrate.quad(lambda t: np.sin(t) * orthonorm_base[i](t), -np.pi, np.pi)[0]\n",
    "    denom = sp.integrate.quad(orthonorm_base[i] ** 2, -np.pi, np.pi)[0]\n",
    "    projections.append(\n",
    "        numer * orthonorm_base[i]\n",
    "    )\n",
    "    print(projections[i])\n",
    "u_x = np.sum(projections)\n",
    "u_x"
   ]
  },
  {
   "cell_type": "code",
   "execution_count": null,
   "metadata": {},
   "outputs": [],
   "source": [
    "domain = np.linspace(-np.pi, np.pi, 1000)\n",
    "fit_poly, fit = Polynomial.fit(domain, np.sin(domain), deg= 5, full= True)\n",
    "fit_poly"
   ]
  },
  {
   "cell_type": "code",
   "execution_count": null,
   "metadata": {},
   "outputs": [],
   "source": [
    "Polynomial(fit_poly.convert().coef)"
   ]
  },
  {
   "cell_type": "code",
   "execution_count": null,
   "metadata": {},
   "outputs": [],
   "source": [
    "for value, name in zip(fit, [\"RSS\", \"rank\", \"singular values\", \"rcond\"]):\n",
    "    print(f\"{name}: {value}\")"
   ]
  },
  {
   "cell_type": "code",
   "execution_count": null,
   "metadata": {},
   "outputs": [],
   "source": [
    "df = pd.DataFrame({\n",
    "    \"x\": np.linspace(-np.pi, np.pi, 1000)\n",
    "})\n",
    "df[\"sin\"] = np.sin(df[\"x\"])\n",
    "df[\"approx\"] = u_x(df[\"x\"])\n",
    "df[\"polyfit\"] = fit_poly(df[\"x\"])"
   ]
  },
  {
   "cell_type": "code",
   "execution_count": null,
   "metadata": {},
   "outputs": [],
   "source": [
    "np.sum((df[\"sin\"] - df[\"polyfit\"]) ** 2)"
   ]
  },
  {
   "cell_type": "code",
   "execution_count": null,
   "metadata": {},
   "outputs": [],
   "source": [
    "np.sum((df[\"sin\"] - df[\"approx\"]) ** 2)"
   ]
  },
  {
   "cell_type": "code",
   "execution_count": null,
   "metadata": {},
   "outputs": [],
   "source": [
    "fig, ax = plt.subplots(figsize= (10,10))\n",
    "sns.lineplot(\n",
    "    df.melt(id_vars= \"x\", value_vars= df.columns.drop(\"x\"), value_name= \"y\", var_name= \"function\"),\n",
    "    x= \"x\",\n",
    "    y= \"y\",\n",
    "    hue= \"function\",\n",
    "    style= \"function\",\n",
    "    linewidth= 3,\n",
    "    alpha= 0.7\n",
    ")\n",
    "ax.vlines([-np.pi, np.pi], ymax= 1, ymin= -1, linestyles= \"--\", colors= \"r\")"
   ]
  }
 ],
 "metadata": {
  "kernelspec": {
   "display_name": "Python 3",
   "language": "python",
   "name": "python3"
  },
  "language_info": {
   "codemirror_mode": {
    "name": "ipython",
    "version": 3
   },
   "file_extension": ".py",
   "mimetype": "text/x-python",
   "name": "python",
   "nbconvert_exporter": "python",
   "pygments_lexer": "ipython3",
   "version": "3.13.7"
  }
 },
 "nbformat": 4,
 "nbformat_minor": 2
}
